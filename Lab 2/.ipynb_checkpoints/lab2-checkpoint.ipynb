{
 "cells": [
  {
   "cell_type": "markdown",
   "metadata": {},
   "source": [
    "### Image Smoothing or Image Blurring"
   ]
  },
  {
   "cell_type": "code",
   "execution_count": 2,
   "metadata": {},
   "outputs": [],
   "source": [
    "import cv2\n",
    "\n",
    "img = cv2.imread('rn.jpg')\n",
    "smooth_img = cv2.boxFilter(img, -1, (5, 5))\n",
    "gaussian_blur = cv2.GaussianBlur(img,(5,5),0)\n",
    "median_filter = cv2.medianBlur(img, 7)\n",
    "cv2.imshow('Original image', img)\n",
    "cv2.imshow('Box Filter', smooth_img)\n",
    "cv2.imshow('Gaussian Blur', gaussian_blur)\n",
    "cv2.imshow('Median Blur', median_filter)\n",
    "cv2.waitKey(0)\n",
    "cv2.destroyAllWindows()"
   ]
  },
  {
   "cell_type": "markdown",
   "metadata": {},
   "source": [
    "### Averaging in multidimensional matrix"
   ]
  },
  {
   "cell_type": "code",
   "execution_count": 3,
   "metadata": {},
   "outputs": [],
   "source": [
    "import cv2\n",
    "\n",
    "img = cv2.imread('rn.jpg', 0)\n",
    "img_blur3 = cv2.blur(img, (3, 3))\n",
    "img_blur7 = cv2.blur(img, (7, 7))\n",
    "bilateral_blur = cv2.bilateralFilter(img, 9, 50, 10)\n",
    "cv2.imshow('Original image', img)\n",
    "cv2.imshow('Image blur 3', img_blur3)\n",
    "cv2.imshow('Image blur 7', img_blur7)\n",
    "cv2.imshow('Bilateral blur', bilateral_blur)\n",
    "cv2.waitKey(0)\n",
    "cv2.destroyAllWindows()"
   ]
  },
  {
   "cell_type": "markdown",
   "metadata": {},
   "source": [
    "### Opening and Closing of Image"
   ]
  },
  {
   "cell_type": "code",
   "execution_count": 4,
   "metadata": {},
   "outputs": [],
   "source": [
    "import cv2\n",
    "\n",
    "img = cv2.imread('dot.jpg', 0)\n",
    "# masking\n",
    "_, mask = cv2.threshold(img, 200, 255, cv2.THRESH_BINARY_INV)\n",
    "_, mask1 = cv2.threshold(img, 200, 255, cv2.THRESH_BINARY)\n",
    "# dilation: remove black spot upon white\n",
    "# img_dilate = cv2.dilate(mask, (2, 2), iterations = 10)\n",
    "# erosion : remove white spot upon black\n",
    "# img_erode = cv2.erode(mask1, (2, 2), iterations = 10)\n",
    "# opening: erosion followed by dilation\n",
    "img_opening = cv2.morphologyEx(mask1, cv2.MORPH_OPEN, (3, 3), iterations = 10)\n",
    "# closing: dilation followed by erosion\n",
    "img_closing = cv2.morphologyEx(mask, cv2.MORPH_CLOSE, (3, 3), iterations = 10)\n",
    "cv2.imshow('Original image', img)\n",
    "cv2.imshow('Opening of image', img_opening)\n",
    "cv2.imshow('Closing of image', img_closing)\n",
    "cv2.waitKey(0)\n",
    "cv2.destroyAllWindows()"
   ]
  },
  {
   "cell_type": "code",
   "execution_count": null,
   "metadata": {},
   "outputs": [],
   "source": []
  },
  {
   "cell_type": "code",
   "execution_count": null,
   "metadata": {},
   "outputs": [],
   "source": []
  }
 ],
 "metadata": {
  "@webio": {
   "lastCommId": null,
   "lastKernelId": null
  },
  "kernelspec": {
   "display_name": "Python 3",
   "language": "python",
   "name": "python3"
  },
  "language_info": {
   "codemirror_mode": {
    "name": "ipython",
    "version": 3
   },
   "file_extension": ".py",
   "mimetype": "text/x-python",
   "name": "python",
   "nbconvert_exporter": "python",
   "pygments_lexer": "ipython3",
   "version": "3.7.3"
  }
 },
 "nbformat": 4,
 "nbformat_minor": 2
}
