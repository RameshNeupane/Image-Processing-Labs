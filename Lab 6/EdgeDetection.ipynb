{
 "cells": [
  {
   "cell_type": "markdown",
   "metadata": {},
   "source": [
    "# Edge Detection "
   ]
  },
  {
   "cell_type": "code",
   "execution_count": 6,
   "metadata": {},
   "outputs": [],
   "source": [
    "import cv2 as cv\n",
    "import numpy as np\n",
    "\n",
    "img = cv.imread('Coronavirus.jpg', 0)\n",
    "# print(img)\n",
    "blur_img = cv.GaussianBlur(img, (5, 5), 0)\n",
    "img_f = np.float32(blur_img)\n",
    "\n",
    "rows, cols = img.shape\n",
    "kernel = np.array([[-1, -1, -1], [-1, 8, -1], [-1, -1, -1]])\n",
    "# kernel = np.array([[0, -1, 0], [-1, 4, -1], [0, -1, 0]])\n",
    "final_img = np.zeros_like(img)\n",
    "\n",
    "for i in range(1, rows - 1):\n",
    "    for j in range(1, cols - 1):\n",
    "        final_img[i][j] = abs(sum((img_f[i - 1 : i + 2, j - 1 : j + 2] * kernel).flatten()))\n",
    "final_img = np.uint8(final_img)\n",
    "cv.imshow('Original Image', img)\n",
    "cv.imshow('Edge Detection', final_img)\n",
    "cv.waitKey(0)\n",
    "cv.destroyAllWindows()"
   ]
  },
  {
   "cell_type": "code",
   "execution_count": null,
   "metadata": {},
   "outputs": [],
   "source": []
  }
 ],
 "metadata": {
  "kernelspec": {
   "display_name": "Python 3",
   "language": "python",
   "name": "python3"
  },
  "language_info": {
   "codemirror_mode": {
    "name": "ipython",
    "version": 3
   },
   "file_extension": ".py",
   "mimetype": "text/x-python",
   "name": "python",
   "nbconvert_exporter": "python",
   "pygments_lexer": "ipython3",
   "version": "3.8.3"
  }
 },
 "nbformat": 4,
 "nbformat_minor": 4
}
