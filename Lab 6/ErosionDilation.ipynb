{
 "cells": [
  {
   "cell_type": "markdown",
   "metadata": {},
   "source": [
    "# Erosion and Dilation"
   ]
  },
  {
   "cell_type": "code",
   "execution_count": 31,
   "metadata": {},
   "outputs": [],
   "source": [
    "import cv2 as cv\n",
    "import numpy as np\n",
    "\n",
    "img = cv.imread('letter.png', 0)\n",
    "# blur_img = cv.GaussianBlur(img, (3, 3), 0)\n",
    "_, thres_bin = cv.threshold(img, 127, 255, cv.THRESH_BINARY)\n",
    "kernel = np.ones((2, 2), np.uint8)\n",
    "erosion_img = cv.erode(img, kernel, iterations = 1)\n",
    "dilation_img = cv.dilate(img, kernel, iterations = 1)\n",
    "\n",
    "cv.imshow('Original Image', img)\n",
    "cv.imshow('Erosion', erosion_img)\n",
    "cv.imshow('Dilation', dilation_img)\n",
    "cv.waitKey(0)\n",
    "cv.destroyAllWindows()"
   ]
  },
  {
   "cell_type": "code",
   "execution_count": null,
   "metadata": {},
   "outputs": [],
   "source": []
  }
 ],
 "metadata": {
  "kernelspec": {
   "display_name": "Python 3",
   "language": "python",
   "name": "python3"
  },
  "language_info": {
   "codemirror_mode": {
    "name": "ipython",
    "version": 3
   },
   "file_extension": ".py",
   "mimetype": "text/x-python",
   "name": "python",
   "nbconvert_exporter": "python",
   "pygments_lexer": "ipython3",
   "version": "3.8.3"
  }
 },
 "nbformat": 4,
 "nbformat_minor": 4
}
