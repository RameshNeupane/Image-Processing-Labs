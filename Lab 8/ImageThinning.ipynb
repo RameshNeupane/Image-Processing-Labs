{
 "cells": [
  {
   "cell_type": "markdown",
   "metadata": {},
   "source": [
    "# Image Thinning"
   ]
  },
  {
   "cell_type": "code",
   "execution_count": 2,
   "metadata": {},
   "outputs": [],
   "source": [
    "import cv2\n",
    "import numpy as np\n",
    "\n",
    "# Create an image with text on it\n",
    "img = np.zeros((200,800),dtype='uint8')\n",
    "font = cv2.FONT_HERSHEY_SIMPLEX\n",
    "cv2.putText(img,'RameshNeupane',(5,70), font, 2,(255),5,cv2.LINE_AA)\n",
    "img1 = img.copy()\n",
    "\n",
    "# Structuring Element\n",
    "kernel = cv2.getStructuringElement(cv2.MORPH_CROSS,(3,3))\n",
    "# Create an empty output image to hold values\n",
    "thin = np.zeros(img.shape,dtype='uint8')\n",
    "\n",
    "# Loop until erosion leads to an empty set\n",
    "while (cv2.countNonZero(img1)!=0):\n",
    "    # Erosion\n",
    "    erode = cv2.erode(img1,kernel)\n",
    "    # Opening on eroded image\n",
    "    opening = cv2.morphologyEx(erode,cv2.MORPH_OPEN,kernel)\n",
    "    # Subtract these two\n",
    "    subset = erode - opening\n",
    "    # Union of all previous sets\n",
    "    thin = cv2.bitwise_or(subset,thin)\n",
    "    # Set the eroded image for next iteration\n",
    "    img1 = erode.copy()\n",
    "    \n",
    "cv2.imshow('Original', img)\n",
    "cv2.imshow('Thinned', thin)\n",
    "cv2.waitKey(0)\n",
    "cv2.destroyAllWindows()"
   ]
  },
  {
   "cell_type": "code",
   "execution_count": null,
   "metadata": {},
   "outputs": [],
   "source": []
  }
 ],
 "metadata": {
  "kernelspec": {
   "display_name": "Python 3",
   "language": "python",
   "name": "python3"
  },
  "language_info": {
   "codemirror_mode": {
    "name": "ipython",
    "version": 3
   },
   "file_extension": ".py",
   "mimetype": "text/x-python",
   "name": "python",
   "nbconvert_exporter": "python",
   "pygments_lexer": "ipython3",
   "version": "3.8.3"
  }
 },
 "nbformat": 4,
 "nbformat_minor": 4
}
