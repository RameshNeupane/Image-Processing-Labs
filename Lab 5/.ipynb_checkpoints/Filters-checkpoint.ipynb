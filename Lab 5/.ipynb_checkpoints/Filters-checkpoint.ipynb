{
 "cells": [
  {
   "cell_type": "markdown",
   "metadata": {},
   "source": [
    "# Laplacian Filter"
   ]
  },
  {
   "cell_type": "code",
   "execution_count": 30,
   "metadata": {},
   "outputs": [],
   "source": [
    "import cv2 as cv\n",
    "import numpy as np\n",
    "\n",
    "img = cv.imread('rn.jpg', 0)\n",
    "blur_img = cv.GaussianBlur(img, (7, 7), 0)\n",
    "laplacian_img = cv.Laplacian(blur_img, cv.CV_32F)\n",
    "lap = laplacian_img / laplacian_img.max()\n",
    "\n",
    "cv.imshow('Original Image', img)\n",
    "# cv.imshow('gaussian', blur_img)\n",
    "cv.imshow('Applying Laplacian', laplacian_img)\n",
    "cv.imshow('Final Image', lap)\n",
    "cv.waitKey(0)\n",
    "cv.destroyAllWindows()"
   ]
  },
  {
   "cell_type": "markdown",
   "metadata": {},
   "source": [
    "# Mean Filter"
   ]
  },
  {
   "cell_type": "code",
   "execution_count": 14,
   "metadata": {},
   "outputs": [],
   "source": [
    "import cv2 as cv\n",
    "import numpy as np\n",
    "\n",
    "img = cv.imread('rn.jpg', 0)\n",
    "averaging_img = cv.boxFilter(img, -1, (5, 5), normalize = True)\n",
    "\n",
    "cv.imshow('Original Image', img)\n",
    "cv.imshow('After applying mean filter 5x5', averaging_img)\n",
    "cv.waitKey(0)\n",
    "cv.destroyAllWindows()"
   ]
  },
  {
   "cell_type": "code",
   "execution_count": 13,
   "metadata": {},
   "outputs": [],
   "source": [
    "import cv2 as cv\n",
    "import numpy as np\n",
    "\n",
    "img = cv.imread('rn.jpg', 0)\n",
    "kernel = np.ones((5, 5), np.float32) / 25\n",
    "averaging_img = cv.filter2D(img, -1, kernel)\n",
    "\n",
    "cv.imshow('Original Image', img)\n",
    "cv.imshow('After applying mean filter 5x5', averaging_img)\n",
    "cv.waitKey(0)\n",
    "cv.destroyAllWindows()"
   ]
  },
  {
   "cell_type": "markdown",
   "metadata": {},
   "source": [
    "# Geometric Mean Filter"
   ]
  },
  {
   "cell_type": "code",
   "execution_count": 25,
   "metadata": {},
   "outputs": [
    {
     "name": "stdout",
     "output_type": "stream",
     "text": [
      "[[152 152 153 ... 154 152 152]\n",
      " [152 152 153 ... 154 152 152]\n",
      " [152 152 153 ... 154 152 152]\n",
      " ...\n",
      " [167 167 168 ... 169 168 167]\n",
      " [167 168 168 ... 169 168 167]\n",
      " [167 168 169 ... 169 168 167]]\n",
      "[[0 0 0 ... 0 0 0]\n",
      " [0 0 0 ... 0 0 0]\n",
      " [0 0 0 ... 0 0 0]\n",
      " ...\n",
      " [0 0 2 ... 2 0 0]\n",
      " [0 0 0 ... 0 0 0]\n",
      " [0 0 0 ... 0 0 0]]\n"
     ]
    }
   ],
   "source": [
    "import cv2 as cv\n",
    "import numpy as np\n",
    "\n",
    "img = cv.imread('rn.jpg', 0)\n",
    "blur_img = cv.GaussianBlur(img, (5, 5), 0)\n",
    "print(blur_img)\n",
    "rows, cols = img.shape\n",
    "ksize = 5\n",
    "padsize = int((ksize - 1) / 2 )\n",
    "pad_img = cv.copyMakeBorder(blur_img, *[padsize]*4, cv.BORDER_DEFAULT)\n",
    "geomean_img = np.zeros_like(img)\n",
    "for r in range(padsize, rows - padsize):\n",
    "    for c in range(padsize, cols - padsize):\n",
    "        geomean_img[r, c] = np.prod(pad_img[r : r + ksize, c : c + ksize]) ** (1 / (ksize * ksize) )\n",
    "\n",
    "print(geomean_img)\n",
    "# geomean_img = np.uint8(geomean_img)\n",
    "# geomean_img = np.uint8(np.exp(cv.boxFilter(np.log(img), -1, (5, 5))))\n",
    "\n",
    "cv.imshow('Original Image', img)\n",
    "cv.imshow('pad img', pad_img)\n",
    "cv.imshow('After applying geometric mean filter 5x5', geomean_img)\n",
    "cv.waitKey(0)\n",
    "cv.destroyAllWindows()"
   ]
  },
  {
   "cell_type": "code",
   "execution_count": 21,
   "metadata": {},
   "outputs": [
    {
     "data": {
      "text/plain": [
       "array([[153, 152, 152, ..., 152, 152, 154],\n",
       "       [153, 152, 152, ..., 152, 152, 154],\n",
       "       [153, 152, 152, ..., 152, 152, 154],\n",
       "       ...,\n",
       "       [169, 168, 167, ..., 167, 168, 169],\n",
       "       [168, 168, 167, ..., 167, 168, 169],\n",
       "       [168, 167, 167, ..., 167, 168, 169]], dtype=uint8)"
      ]
     },
     "execution_count": 21,
     "metadata": {},
     "output_type": "execute_result"
    }
   ],
   "source": [
    "pad_img"
   ]
  },
  {
   "cell_type": "code",
   "execution_count": 22,
   "metadata": {},
   "outputs": [
    {
     "data": {
      "text/plain": [
       "(544, 724)"
      ]
     },
     "execution_count": 22,
     "metadata": {},
     "output_type": "execute_result"
    }
   ],
   "source": [
    "pad_img.shape"
   ]
  },
  {
   "cell_type": "code",
   "execution_count": 23,
   "metadata": {},
   "outputs": [
    {
     "data": {
      "text/plain": [
       "(540, 720)"
      ]
     },
     "execution_count": 23,
     "metadata": {},
     "output_type": "execute_result"
    }
   ],
   "source": [
    "img.shape"
   ]
  },
  {
   "cell_type": "code",
   "execution_count": 24,
   "metadata": {},
   "outputs": [
    {
     "data": {
      "text/plain": [
       "array([[151, 151, 153, ..., 154, 152, 150],\n",
       "       [151, 152, 153, ..., 154, 152, 150],\n",
       "       [151, 152, 153, ..., 154, 152, 150],\n",
       "       ...,\n",
       "       [167, 167, 168, ..., 169, 168, 166],\n",
       "       [167, 167, 168, ..., 169, 168, 166],\n",
       "       [167, 168, 169, ..., 169, 168, 166]], dtype=uint8)"
      ]
     },
     "execution_count": 24,
     "metadata": {},
     "output_type": "execute_result"
    }
   ],
   "source": [
    "img"
   ]
  },
  {
   "cell_type": "code",
   "execution_count": null,
   "metadata": {},
   "outputs": [],
   "source": []
  }
 ],
 "metadata": {
  "kernelspec": {
   "display_name": "Python 3",
   "language": "python",
   "name": "python3"
  },
  "language_info": {
   "codemirror_mode": {
    "name": "ipython",
    "version": 3
   },
   "file_extension": ".py",
   "mimetype": "text/x-python",
   "name": "python",
   "nbconvert_exporter": "python",
   "pygments_lexer": "ipython3",
   "version": "3.8.3"
  }
 },
 "nbformat": 4,
 "nbformat_minor": 4
}
