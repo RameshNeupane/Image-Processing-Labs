{
 "cells": [
  {
   "cell_type": "markdown",
   "metadata": {},
   "source": [
    "### High Pass and Low Pass Filtering"
   ]
  },
  {
   "cell_type": "code",
   "execution_count": 1,
   "metadata": {},
   "outputs": [],
   "source": [
    "import cv2\n",
    "import numpy as np\n",
    "\n",
    "img = cv2.imread('rn.jpg', 0)\n",
    "# High pass filter\n",
    "high_pass_lap = cv2.Laplacian(img, ksize = 5, ddepth = -1)\n",
    "# Add noise\n",
    "mean = 5\n",
    "var = 100\n",
    "sigma = var ** 0.5\n",
    "gaussian = np.random.normal(mean, sigma) #  np.zeros((224, 224), np.float32)\n",
    "\n",
    "noisy_image = np.zeros(img.shape, np.float32)\n",
    "\n",
    "if len(img.shape) == 2:\n",
    "    noisy_image = img + gaussian\n",
    "else:\n",
    "    noisy_image[:, :, 0] = img[:, :, 0] + gaussian\n",
    "    noisy_image[:, :, 1] = img[:, :, 1] + gaussian\n",
    "    noisy_image[:, :, 2] = img[:, :, 2] + gaussian\n",
    "\n",
    "cv2.normalize(noisy_image, noisy_image, 0, 255, cv2.NORM_MINMAX, dtype=-1)\n",
    "noisy_image = noisy_image.astype(np.uint8)\n",
    "\n",
    "# Low pass filter\n",
    "low_pass = cv2.GaussianBlur(noisy_image, (3, 3), 7)\n",
    "# display images\n",
    "titles = ['Original', 'High pass Laplacian', 'Low pass filter']\n",
    "images = [img, high_pass_lap, low_pass]\n",
    "for i in range(len(titles)):\n",
    "    cv2.imshow(titles[i], images[i])\n",
    "cv2.waitKey(0)\n",
    "cv2.destroyAllWindows()"
   ]
  },
  {
   "cell_type": "code",
   "execution_count": null,
   "metadata": {},
   "outputs": [],
   "source": []
  }
 ],
 "metadata": {
  "@webio": {
   "lastCommId": null,
   "lastKernelId": null
  },
  "kernelspec": {
   "display_name": "Python 3",
   "language": "python",
   "name": "python3"
  },
  "language_info": {
   "codemirror_mode": {
    "name": "ipython",
    "version": 3
   },
   "file_extension": ".py",
   "mimetype": "text/x-python",
   "name": "python",
   "nbconvert_exporter": "python",
   "pygments_lexer": "ipython3",
   "version": "3.8.3"
  }
 },
 "nbformat": 4,
 "nbformat_minor": 2
}
